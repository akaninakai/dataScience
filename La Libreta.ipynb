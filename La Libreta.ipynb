{
    "cells": [
        {
            "cell_type": "markdown",
            "metadata": {},
            "source": "la descripcion"
        },
        {
            "cell_type": "code",
            "execution_count": null,
            "metadata": {},
            "outputs": [
                {
                    "name": "stdout",
                    "output_type": "stream",
                    "text": "+------------------+----------------+-----------------------+----------------------+-----------------+\n|Source Starting IP|Source Ending IP|Destination Starting IP|Destination Ending IP |            Ports|\n+------------------+----------------+-----------------------+----------------------+-----------------+\n|     10.195.32.239|   10.195.32.239|          10.192.28.113|         10.192.28.113|SQL - Oracle-1521|\n|     10.195.32.239|   10.195.32.239|          10.192.28.117|         10.192.28.117|SQL - Oracle-1521|\n|     10.195.32.239|   10.195.32.239|          10.192.28.119|         10.192.28.119|SQL - Oracle-1521|\n|     10.195.32.239|   10.195.32.239|           10.216.28.40|          10.216.28.40|SQL - Oracle-1521|\n|     10.195.32.239|   10.195.32.239|           10.216.28.52|          10.216.28.52|SQL - Oracle-1521|\n+------------------+----------------+-----------------------+----------------------+-----------------+\nonly showing top 5 rows\n\n"
                }
            ],
            "source": "// The code was removed by Watson Studio for sharing."
        },
        {
            "cell_type": "code",
            "execution_count": null,
            "metadata": {},
            "outputs": [],
            "source": ""
        }
    ],
    "metadata": {
        "kernelspec": {
            "display_name": "Scala 2.11 with Spark",
            "language": "scala",
            "name": "scala"
        },
        "language_info": {
            "codemirror_mode": "text/x-scala",
            "file_extension": ".scala",
            "mimetype": "text/x-scala",
            "name": "scala",
            "pygments_lexer": "scala",
            "version": "2.11.12"
        }
    },
    "nbformat": 4,
    "nbformat_minor": 1
}